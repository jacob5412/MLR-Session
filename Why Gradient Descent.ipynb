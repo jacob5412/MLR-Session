{
 "cells": [
  {
   "cell_type": "markdown",
   "metadata": {},
   "source": [
    "# Why Gradient Descent"
   ]
  },
  {
   "cell_type": "code",
   "execution_count": 1,
   "metadata": {},
   "outputs": [],
   "source": [
    "import numpy as np\n",
    "import pandas as pd\n",
    "import matplotlib.pylab as plt\n",
    "\n",
    "import time"
   ]
  },
  {
   "cell_type": "markdown",
   "metadata": {},
   "source": [
    "## Importing Data"
   ]
  },
  {
   "cell_type": "code",
   "execution_count": 2,
   "metadata": {},
   "outputs": [],
   "source": [
    "data = pd.read_csv('data/Housing_data.csv')"
   ]
  },
  {
   "cell_type": "code",
   "execution_count": 3,
   "metadata": {},
   "outputs": [
    {
     "data": {
      "text/html": [
       "<div>\n",
       "<style scoped>\n",
       "    .dataframe tbody tr th:only-of-type {\n",
       "        vertical-align: middle;\n",
       "    }\n",
       "\n",
       "    .dataframe tbody tr th {\n",
       "        vertical-align: top;\n",
       "    }\n",
       "\n",
       "    .dataframe thead th {\n",
       "        text-align: right;\n",
       "    }\n",
       "</style>\n",
       "<table border=\"1\" class=\"dataframe\">\n",
       "  <thead>\n",
       "    <tr style=\"text-align: right;\">\n",
       "      <th></th>\n",
       "      <th>Area</th>\n",
       "      <th>NumBedrooms</th>\n",
       "      <th>Floors</th>\n",
       "      <th>Age</th>\n",
       "      <th>SalePrice</th>\n",
       "    </tr>\n",
       "  </thead>\n",
       "  <tbody>\n",
       "    <tr>\n",
       "      <th>0</th>\n",
       "      <td>8450</td>\n",
       "      <td>3</td>\n",
       "      <td>2</td>\n",
       "      <td>17</td>\n",
       "      <td>208500</td>\n",
       "    </tr>\n",
       "    <tr>\n",
       "      <th>1</th>\n",
       "      <td>9600</td>\n",
       "      <td>3</td>\n",
       "      <td>1</td>\n",
       "      <td>44</td>\n",
       "      <td>181500</td>\n",
       "    </tr>\n",
       "    <tr>\n",
       "      <th>2</th>\n",
       "      <td>11250</td>\n",
       "      <td>3</td>\n",
       "      <td>2</td>\n",
       "      <td>19</td>\n",
       "      <td>223500</td>\n",
       "    </tr>\n",
       "    <tr>\n",
       "      <th>3</th>\n",
       "      <td>9550</td>\n",
       "      <td>3</td>\n",
       "      <td>2</td>\n",
       "      <td>105</td>\n",
       "      <td>140000</td>\n",
       "    </tr>\n",
       "    <tr>\n",
       "      <th>4</th>\n",
       "      <td>14260</td>\n",
       "      <td>4</td>\n",
       "      <td>2</td>\n",
       "      <td>20</td>\n",
       "      <td>250000</td>\n",
       "    </tr>\n",
       "  </tbody>\n",
       "</table>\n",
       "</div>"
      ],
      "text/plain": [
       "    Area  NumBedrooms  Floors  Age  SalePrice\n",
       "0   8450            3       2   17     208500\n",
       "1   9600            3       1   44     181500\n",
       "2  11250            3       2   19     223500\n",
       "3   9550            3       2  105     140000\n",
       "4  14260            4       2   20     250000"
      ]
     },
     "execution_count": 3,
     "metadata": {},
     "output_type": "execute_result"
    }
   ],
   "source": [
    "data.head()"
   ]
  },
  {
   "cell_type": "markdown",
   "metadata": {},
   "source": [
    "## Normal Equations Method"
   ]
  },
  {
   "cell_type": "code",
   "execution_count": 4,
   "metadata": {},
   "outputs": [],
   "source": [
    "# initializing variables\n",
    "X = np.array(data[['Area','NumBedrooms','Floors','Age','SalePrice']])\n",
    "y = np.array(data['SalePrice'])\n",
    "\n",
    "# making y a column vector\n",
    "y = y.reshape((-1,1))\n",
    "\n",
    "# appending column of 1 to X\n",
    "X = np.append(np.ones((X.shape[0], 1)), X, axis = 1)"
   ]
  },
  {
   "cell_type": "code",
   "execution_count": 5,
   "metadata": {},
   "outputs": [
    {
     "name": "stdout",
     "output_type": "stream",
     "text": [
      "X=\n",
      " [[1.00000e+00 8.45000e+03 3.00000e+00 2.00000e+00 1.70000e+01 2.08500e+05]\n",
      " [1.00000e+00 9.60000e+03 3.00000e+00 1.00000e+00 4.40000e+01 1.81500e+05]\n",
      " [1.00000e+00 1.12500e+04 3.00000e+00 2.00000e+00 1.90000e+01 2.23500e+05]\n",
      " ...\n",
      " [1.00000e+00 9.04200e+03 4.00000e+00 2.00000e+00 7.90000e+01 2.66500e+05]\n",
      " [1.00000e+00 9.71700e+03 2.00000e+00 1.00000e+00 7.00000e+01 1.42125e+05]\n",
      " [1.00000e+00 9.93700e+03 3.00000e+00 1.00000e+00 5.50000e+01 1.47500e+05]] \n",
      "\n",
      "y=\n",
      " [[208500]\n",
      " [181500]\n",
      " [223500]\n",
      " ...\n",
      " [266500]\n",
      " [142125]\n",
      " [147500]]\n"
     ]
    }
   ],
   "source": [
    "print(\"X=\\n\", X, \"\\n\")\n",
    "print(\"y=\\n\", y)"
   ]
  },
  {
   "cell_type": "code",
   "execution_count": 6,
   "metadata": {},
   "outputs": [
    {
     "name": "stdout",
     "output_type": "stream",
     "text": [
      "Successfully executed in 0.00s\n"
     ]
    }
   ],
   "source": [
    "start = time.time()\n",
    "\n",
    "# normal equation\n",
    "theta = np.dot(np.dot(np.linalg.pinv(np.dot(X.T, X)), X.T), y)\n",
    "\n",
    "end = time.time()\n",
    "print(\"Successfully executed in {:.2f}s\".format(end - start))"
   ]
  },
  {
   "cell_type": "code",
   "execution_count": 7,
   "metadata": {},
   "outputs": [
    {
     "name": "stdout",
     "output_type": "stream",
     "text": [
      "theta=\n",
      " [[ 7.41494114e-05]\n",
      " [ 2.01065831e-11]\n",
      " [-9.52816390e-06]\n",
      " [-7.11272878e-06]\n",
      " [-2.97000483e-07]\n",
      " [ 1.00000000e+00]]\n"
     ]
    }
   ],
   "source": [
    "print(\"theta=\\n\", theta) "
   ]
  },
  {
   "cell_type": "code",
   "execution_count": 8,
   "metadata": {},
   "outputs": [
    {
     "name": "stdout",
     "output_type": "stream",
     "text": [
      "y_hat(1) =  208500.0 \n",
      "y(1) =  208500\n"
     ]
    }
   ],
   "source": [
    "print(\"y_hat(1) = \", np.round(np.sum(theta.T*X[0]), decimals=2), \"\\ny(1) = \", y[0][0])"
   ]
  },
  {
   "cell_type": "markdown",
   "metadata": {},
   "source": [
    "## Gradient Descent"
   ]
  },
  {
   "cell_type": "code",
   "execution_count": 9,
   "metadata": {},
   "outputs": [],
   "source": [
    "learning_rate = 1e-11\n",
    "theta = np.random.randn(X.shape[1], 1)\n",
    "n_iterations = int(1e5)\n",
    "m = X.shape[0]"
   ]
  },
  {
   "cell_type": "code",
   "execution_count": 10,
   "metadata": {},
   "outputs": [],
   "source": [
    "def compute_cost(h, m, y, theta):\n",
    "    residuals = (h - y)\n",
    "    s_error = np.dot(residuals.T, residuals)\n",
    "    return np.sum(s_error)/(2 * m)"
   ]
  },
  {
   "cell_type": "code",
   "execution_count": 11,
   "metadata": {},
   "outputs": [
    {
     "name": "stdout",
     "output_type": "stream",
     "text": [
      "Successfully executed in 1.34s\n"
     ]
    }
   ],
   "source": [
    "J_history = {}\n",
    "start = time.time()\n",
    "\n",
    "for i in range(1, n_iterations+1):\n",
    "    \n",
    "    h = np.dot(X, theta)\n",
    "    residuals = h - y\n",
    "    theta = theta - (learning_rate * ((1/m) * np.dot(X.T, residuals)))\n",
    "    \n",
    "    if(i%1000 == 0):\n",
    "        J_history[i] = compute_cost(h, m, y, theta)\n",
    "\n",
    "end = time.time()\n",
    "print(\"Successfully executed in {:.2f}s\".format(end - start))"
   ]
  },
  {
   "cell_type": "code",
   "execution_count": 12,
   "metadata": {},
   "outputs": [
    {
     "data": {
      "image/png": "[encoded data removed]",
      "text/plain": [
       "<Figure size 432x288 with 1 Axes>"
      ]
     },
     "metadata": {
      "needs_background": "light"
     },
     "output_type": "display_data"
    }
   ],
   "source": [
    "plt.plot(J_history.keys(), J_history.values())\n",
    "plt.show()"
   ]
  },
  {
   "cell_type": "code",
   "execution_count": 13,
   "metadata": {},
   "outputs": [
    {
     "name": "stdout",
     "output_type": "stream",
     "text": [
      "theta=\n",
      " [[ 3.79455252e-01]\n",
      " [-1.05216683e-05]\n",
      " [ 7.39279278e-01]\n",
      " [-6.75735584e-01]\n",
      " [-8.19312745e-03]\n",
      " [ 9.99994673e-01]]\n"
     ]
    }
   ],
   "source": [
    "print(\"theta=\\n\", theta) "
   ]
  },
  {
   "cell_type": "code",
   "execution_count": 14,
   "metadata": {},
   "outputs": [
    {
     "name": "stdout",
     "output_type": "stream",
     "text": [
      "y_hat(1) =  208499.91 \n",
      "y(1) =  208500\n"
     ]
    }
   ],
   "source": [
    "print(\"y_hat(1) = \", np.round(np.sum(theta.T*X[0]), decimals=2), \"\\ny(1) = \", y[0][0])"
   ]
  }
 ],
 "metadata": {
  "kernelspec": {
   "display_name": "Python 3",
   "language": "python",
   "name": "python3"
  },
  "language_info": {
   "codemirror_mode": {
    "name": "ipython",
    "version": 3
   },
   "file_extension": ".py",
   "mimetype": "text/x-python",
   "name": "python",
   "nbconvert_exporter": "python",
   "pygments_lexer": "ipython3",
   "version": "3.8.5"
  }
 },
 "nbformat": 4,
 "nbformat_minor": 4
}
