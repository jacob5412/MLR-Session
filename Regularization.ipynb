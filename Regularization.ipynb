{
 "cells": [
  {
   "cell_type": "markdown",
   "metadata": {},
   "source": [
    "# Regularization"
   ]
  },
  {
   "cell_type": "code",
   "execution_count": 1,
   "metadata": {},
   "outputs": [],
   "source": [
    "import numpy as np\n",
    "import pandas as pd\n",
    "from sklearn.model_selection import train_test_split\n",
    "from sklearn.linear_model import LinearRegressionRn, Ridge, Lasso, RidgeCV, LassoCV\n",
    "from sklearn.preprocessing import StandardScaler\n",
    "from sklearn.metrics import r2_score, mean_absolute_error, mean_squared_error\n",
    "\n",
    "import warnings\n",
    "warnings.filterwarnings('ignore')"
   ]
  },
  {
   "cell_type": "markdown",
   "metadata": {},
   "source": [
    "## Importing Data"
   ]
  },
  {
   "cell_type": "code",
   "execution_count": 2,
   "metadata": {},
   "outputs": [],
   "source": [
    "crime = pd.read_csv('data/crime.csv')"
   ]
  },
  {
   "cell_type": "code",
   "execution_count": 3,
   "metadata": {},
   "outputs": [
    {
     "data": {
      "text/html": [
       "<div>\n",
       "<style scoped>\n",
       "    .dataframe tbody tr th:only-of-type {\n",
       "        vertical-align: middle;\n",
       "    }\n",
       "\n",
       "    .dataframe tbody tr th {\n",
       "        vertical-align: top;\n",
       "    }\n",
       "\n",
       "    .dataframe thead th {\n",
       "        text-align: right;\n",
       "    }\n",
       "</style>\n",
       "<table border=\"1\" class=\"dataframe\">\n",
       "  <thead>\n",
       "    <tr style=\"text-align: right;\">\n",
       "      <th></th>\n",
       "      <th>0</th>\n",
       "      <th>1</th>\n",
       "      <th>2</th>\n",
       "      <th>3</th>\n",
       "      <th>4</th>\n",
       "      <th>5</th>\n",
       "      <th>6</th>\n",
       "      <th>7</th>\n",
       "      <th>8</th>\n",
       "      <th>9</th>\n",
       "      <th>...</th>\n",
       "      <th>118</th>\n",
       "      <th>119</th>\n",
       "      <th>120</th>\n",
       "      <th>121</th>\n",
       "      <th>122</th>\n",
       "      <th>123</th>\n",
       "      <th>124</th>\n",
       "      <th>125</th>\n",
       "      <th>126</th>\n",
       "      <th>127</th>\n",
       "    </tr>\n",
       "  </thead>\n",
       "  <tbody>\n",
       "    <tr>\n",
       "      <th>0</th>\n",
       "      <td>36</td>\n",
       "      <td>1.0</td>\n",
       "      <td>1000.0</td>\n",
       "      <td>Albanycity</td>\n",
       "      <td>1</td>\n",
       "      <td>0.15</td>\n",
       "      <td>0.31</td>\n",
       "      <td>0.40</td>\n",
       "      <td>0.63</td>\n",
       "      <td>0.14</td>\n",
       "      <td>...</td>\n",
       "      <td>0.06</td>\n",
       "      <td>0.39</td>\n",
       "      <td>0.84</td>\n",
       "      <td>0.06</td>\n",
       "      <td>0.06</td>\n",
       "      <td>0.91</td>\n",
       "      <td>0.5</td>\n",
       "      <td>0.88</td>\n",
       "      <td>0.26</td>\n",
       "      <td>0.49</td>\n",
       "    </tr>\n",
       "    <tr>\n",
       "      <th>1</th>\n",
       "      <td>19</td>\n",
       "      <td>193.0</td>\n",
       "      <td>93926.0</td>\n",
       "      <td>SiouxCitycity</td>\n",
       "      <td>1</td>\n",
       "      <td>0.11</td>\n",
       "      <td>0.43</td>\n",
       "      <td>0.04</td>\n",
       "      <td>0.89</td>\n",
       "      <td>0.09</td>\n",
       "      <td>...</td>\n",
       "      <td>0.16</td>\n",
       "      <td>0.12</td>\n",
       "      <td>0.07</td>\n",
       "      <td>0.04</td>\n",
       "      <td>0.01</td>\n",
       "      <td>0.81</td>\n",
       "      <td>1.0</td>\n",
       "      <td>0.56</td>\n",
       "      <td>0.09</td>\n",
       "      <td>0.63</td>\n",
       "    </tr>\n",
       "    <tr>\n",
       "      <th>2</th>\n",
       "      <td>51</td>\n",
       "      <td>680.0</td>\n",
       "      <td>47672.0</td>\n",
       "      <td>Lynchburgcity</td>\n",
       "      <td>1</td>\n",
       "      <td>0.09</td>\n",
       "      <td>0.43</td>\n",
       "      <td>0.51</td>\n",
       "      <td>0.58</td>\n",
       "      <td>0.04</td>\n",
       "      <td>...</td>\n",
       "      <td>0.14</td>\n",
       "      <td>0.11</td>\n",
       "      <td>0.19</td>\n",
       "      <td>0.05</td>\n",
       "      <td>0.01</td>\n",
       "      <td>0.75</td>\n",
       "      <td>0.0</td>\n",
       "      <td>0.60</td>\n",
       "      <td>0.10</td>\n",
       "      <td>0.31</td>\n",
       "    </tr>\n",
       "    <tr>\n",
       "      <th>3</th>\n",
       "      <td>34</td>\n",
       "      <td>23.0</td>\n",
       "      <td>58200.0</td>\n",
       "      <td>PerthAmboycity</td>\n",
       "      <td>1</td>\n",
       "      <td>0.05</td>\n",
       "      <td>0.59</td>\n",
       "      <td>0.23</td>\n",
       "      <td>0.39</td>\n",
       "      <td>0.09</td>\n",
       "      <td>...</td>\n",
       "      <td>0.01</td>\n",
       "      <td>0.73</td>\n",
       "      <td>0.28</td>\n",
       "      <td>0.00</td>\n",
       "      <td>0.02</td>\n",
       "      <td>0.64</td>\n",
       "      <td>0.0</td>\n",
       "      <td>1.00</td>\n",
       "      <td>0.23</td>\n",
       "      <td>0.50</td>\n",
       "    </tr>\n",
       "    <tr>\n",
       "      <th>4</th>\n",
       "      <td>9</td>\n",
       "      <td>9.0</td>\n",
       "      <td>46520.0</td>\n",
       "      <td>Meridentown</td>\n",
       "      <td>1</td>\n",
       "      <td>0.08</td>\n",
       "      <td>0.39</td>\n",
       "      <td>0.08</td>\n",
       "      <td>0.85</td>\n",
       "      <td>0.04</td>\n",
       "      <td>...</td>\n",
       "      <td>0.07</td>\n",
       "      <td>0.21</td>\n",
       "      <td>0.04</td>\n",
       "      <td>0.02</td>\n",
       "      <td>0.01</td>\n",
       "      <td>0.70</td>\n",
       "      <td>1.0</td>\n",
       "      <td>0.44</td>\n",
       "      <td>0.11</td>\n",
       "      <td>0.14</td>\n",
       "    </tr>\n",
       "  </tbody>\n",
       "</table>\n",
       "<p>5 rows × 128 columns</p>\n",
       "</div>"
      ],
      "text/plain": [
       "    0      1        2               3  4     5     6     7     8     9  ...  \\\n",
       "0  36    1.0   1000.0      Albanycity  1  0.15  0.31  0.40  0.63  0.14  ...   \n",
       "1  19  193.0  93926.0   SiouxCitycity  1  0.11  0.43  0.04  0.89  0.09  ...   \n",
       "2  51  680.0  47672.0   Lynchburgcity  1  0.09  0.43  0.51  0.58  0.04  ...   \n",
       "3  34   23.0  58200.0  PerthAmboycity  1  0.05  0.59  0.23  0.39  0.09  ...   \n",
       "4   9    9.0  46520.0     Meridentown  1  0.08  0.39  0.08  0.85  0.04  ...   \n",
       "\n",
       "    118   119   120   121   122   123  124   125   126   127  \n",
       "0  0.06  0.39  0.84  0.06  0.06  0.91  0.5  0.88  0.26  0.49  \n",
       "1  0.16  0.12  0.07  0.04  0.01  0.81  1.0  0.56  0.09  0.63  \n",
       "2  0.14  0.11  0.19  0.05  0.01  0.75  0.0  0.60  0.10  0.31  \n",
       "3  0.01  0.73  0.28  0.00  0.02  0.64  0.0  1.00  0.23  0.50  \n",
       "4  0.07  0.21  0.04  0.02  0.01  0.70  1.0  0.44  0.11  0.14  \n",
       "\n",
       "[5 rows x 128 columns]"
      ]
     },
     "execution_count": 3,
     "metadata": {},
     "output_type": "execute_result"
    }
   ],
   "source": [
    "crime.head()"
   ]
  },
  {
   "cell_type": "code",
   "execution_count": 4,
   "metadata": {},
   "outputs": [],
   "source": [
    "crime.drop(['0', '1', '2', '3', '4'], axis=1, inplace=True)"
   ]
  },
  {
   "cell_type": "markdown",
   "metadata": {},
   "source": [
    "## Pre-processing"
   ]
  },
  {
   "cell_type": "code",
   "execution_count": 5,
   "metadata": {},
   "outputs": [],
   "source": [
    "# defining X and y\n",
    "X = crime.drop('127', axis=1)\n",
    "y = crime['127']\n",
    "\n",
    "# split into training and testing sets\n",
    "X_train, X_test, y_train, y_test = train_test_split(\n",
    "    X, y, test_size=0.3, random_state=1)"
   ]
  },
  {
   "cell_type": "code",
   "execution_count": 6,
   "metadata": {},
   "outputs": [],
   "source": [
    "# scaling the data\n",
    "std_scaler = StandardScaler()\n",
    "\n",
    "X_train = std_scaler.fit_transform(X_train)\n",
    "X_test = std_scaler.transform(X_test)"
   ]
  },
  {
   "cell_type": "markdown",
   "metadata": {},
   "source": [
    "## Linear Regression"
   ]
  },
  {
   "cell_type": "code",
   "execution_count": 7,
   "metadata": {},
   "outputs": [
    {
     "name": "stdout",
     "output_type": "stream",
     "text": [
      "Intercept:  0.38279069767441815\n",
      "Parameters:  [-0.0623734   0.00101596 -0.15061121 -0.04382635 -0.04503749  0.01122753\n",
      " -0.00163248  0.04008768 -0.05937713 -0.05191447 -0.05405137  0.05789879\n",
      "  0.03292446 -0.03370722 -0.00310515 -0.12782989 -0.00037003  0.17495321\n",
      "  0.01365595  0.00566276  0.01170868 -0.07457435 -0.01383092 -0.05606527\n",
      "  0.00967544 -0.00474329  0.0005881  -0.05538503 -0.0136534  -0.18827401\n",
      "  0.14404199  0.01218253  0.12876834 -0.07598054 -0.13594439  0.04047131\n",
      " -0.03254999 -0.03941155 -0.08870142 -0.01398071  0.04725937  0.02613283\n",
      "  0.04509046 -0.00677673 -0.04797272  0.17446473 -0.08477526  0.056363\n",
      "  0.00873588 -0.03454424  0.03652989 -0.02517809  0.05748361 -0.04105055\n",
      " -0.00037132  0.07704688 -0.02755178 -0.06731121 -0.05760964  0.00861085\n",
      " -0.04999904 -0.06224348 -0.03936438 -0.0658367   0.00949308 -0.0083054\n",
      "  0.01182506  0.00621315  0.00811174  0.01802429 -0.03277733  0.00469281\n",
      " -0.00631662  0.14817238 -0.00055849  0.07175178 -0.0783469  -0.04797826\n",
      " -0.03315852  0.01325942 -0.05451267 -0.00805983  0.00853726  0.04014626\n",
      "  0.00043019  0.09399555 -0.13470543  0.00870308  0.01784911  0.05981484\n",
      "  0.04291815  0.14031433 -0.01277923 -0.08105767  0.08223252 -0.08581992\n",
      "  0.04517212 -0.03090608 -0.09404659  0.06220064 -0.01464846 -0.09876918\n",
      "  0.0911993  -0.03090608 -0.10363493  0.05820202 -0.08664469  0.0544436\n",
      "  0.02733543  0.17916094 -0.01811088  0.0280493  -0.01510464  0.06583592\n",
      "  0.00355336 -0.01602844  0.02705748  0.01124293 -0.03019171  0.02998751\n",
      "  0.01553068  0.01895179]\n"
     ]
    }
   ],
   "source": [
    "# build a linear regression model\n",
    "linreg = LinearRegression()\n",
    "linreg.fit(X_train, y_train)\n",
    "\n",
    "print(\"Intercept: \", linreg.intercept_)\n",
    "print(\"Parameters: \", linreg.coef_)"
   ]
  },
  {
   "cell_type": "code",
   "execution_count": 8,
   "metadata": {},
   "outputs": [
    {
     "name": "stdout",
     "output_type": "stream",
     "text": [
      "R-Square Value -0.7278611409523599\n",
      "mean_absolute_error:  0.2679384361639189\n",
      "mean_squared_error:  0.12015488316028962\n",
      "root_mean_squared_error:  0.34663364401092056\n"
     ]
    }
   ],
   "source": [
    "y_pred = linreg.predict(X_test)\n",
    "\n",
    "# calculate R^2 value, MAE, MSE, RMSE\n",
    "print(\"R-Square Value\", r2_score(y_test, y_pred))\n",
    "print(\"mean_absolute_error: \", mean_absolute_error(y_test, y_pred))\n",
    "print(\"mean_squared_error: \", mean_squared_error(y_test, y_pred))\n",
    "print(\"root_mean_squared_error: \", np.sqrt(mean_squared_error(y_test, y_pred)))"
   ]
  },
  {
   "cell_type": "markdown",
   "metadata": {},
   "source": [
    "## Ridge regression"
   ]
  },
  {
   "cell_type": "code",
   "execution_count": 9,
   "metadata": {},
   "outputs": [
    {
     "data": {
      "text/plain": [
       "Ridge(alpha=0.1)"
      ]
     },
     "execution_count": 9,
     "metadata": {},
     "output_type": "execute_result"
    }
   ],
   "source": [
    "# try alpha=0.1 (lambda in our slides)\n",
    "ridgereg = Ridge(alpha=0.1)\n",
    "ridgereg.fit(X_train, y_train)"
   ]
  },
  {
   "cell_type": "code",
   "execution_count": 10,
   "metadata": {},
   "outputs": [
    {
     "name": "stdout",
     "output_type": "stream",
     "text": [
      "R-Square Value -0.42611857771810047\n",
      "mean_absolute_error:  0.24496917425815015\n",
      "mean_squared_error:  0.09917180670200705\n",
      "root_mean_squared_error:  0.3149155548746474\n"
     ]
    }
   ],
   "source": [
    "y_pred = ridgereg.predict(X_test)\n",
    "\n",
    "# calculate R^2 value, MAE, MSE, RMSE\n",
    "print(\"R-Square Value\", r2_score(y_test, y_pred))\n",
    "print(\"mean_absolute_error: \", mean_absolute_error(y_test, y_pred))\n",
    "print(\"mean_squared_error: \", mean_squared_error(y_test, y_pred))\n",
    "print(\"root_mean_squared_error: \", np.sqrt(mean_squared_error(y_test, y_pred)))"
   ]
  },
  {
   "cell_type": "markdown",
   "metadata": {},
   "source": [
    "## RidgeCV regression"
   ]
  },
  {
   "cell_type": "code",
   "execution_count": 11,
   "metadata": {},
   "outputs": [],
   "source": [
    "# create an array of alpha values\n",
    "alpha_range = 10.**np.arange(-2, 3)"
   ]
  },
  {
   "cell_type": "code",
   "execution_count": 12,
   "metadata": {},
   "outputs": [
    {
     "data": {
      "text/plain": [
       "100.0"
      ]
     },
     "execution_count": 12,
     "metadata": {},
     "output_type": "execute_result"
    }
   ],
   "source": [
    "# select the best alpha with RidgeCV\n",
    "ridgeregcv = RidgeCV(alphas=alpha_range, scoring='neg_mean_squared_error')\n",
    "ridgeregcv.fit(X_train, y_train)\n",
    "ridgeregcv.alpha_"
   ]
  },
  {
   "cell_type": "code",
   "execution_count": 13,
   "metadata": {},
   "outputs": [
    {
     "name": "stdout",
     "output_type": "stream",
     "text": [
      "R-Square Value 0.7226886326562807\n",
      "mean_absolute_error:  0.09921256726611351\n",
      "mean_squared_error:  0.019284139305221774\n",
      "root_mean_squared_error:  0.138867344272229\n"
     ]
    }
   ],
   "source": [
    "y_pred = ridgeregcv.predict(X_test)\n",
    "\n",
    "# calculate R^2 value, MAE, MSE, RMSE\n",
    "print(\"R-Square Value\", r2_score(y_test, y_pred))\n",
    "print(\"mean_absolute_error: \", mean_absolute_error(y_test, y_pred))\n",
    "print(\"mean_squared_error: \", mean_squared_error(y_test, y_pred))\n",
    "print(\"root_mean_squared_error: \", np.sqrt(mean_squared_error(y_test, y_pred)))"
   ]
  },
  {
   "cell_type": "markdown",
   "metadata": {},
   "source": [
    "## Lasso regression"
   ]
  },
  {
   "cell_type": "code",
   "execution_count": 14,
   "metadata": {},
   "outputs": [
    {
     "data": {
      "text/plain": [
       "Lasso(alpha=0.001)"
      ]
     },
     "execution_count": 14,
     "metadata": {},
     "output_type": "execute_result"
    }
   ],
   "source": [
    "lassoreg = Lasso(alpha=0.001)\n",
    "lassoreg.fit(X_train, y_train)"
   ]
  },
  {
   "cell_type": "code",
   "execution_count": 15,
   "metadata": {},
   "outputs": [
    {
     "name": "stdout",
     "output_type": "stream",
     "text": [
      "R-Square Value 0.4573237305991652\n",
      "mean_absolute_error:  0.15013161143459727\n",
      "mean_squared_error:  0.03773752542856508\n",
      "root_mean_squared_error:  0.19426148724995668\n"
     ]
    }
   ],
   "source": [
    "y_pred = lassoreg.predict(X_test)\n",
    "\n",
    "# calculate R^2 value, MAE, MSE, RMSE\n",
    "print(\"R-Square Value\", r2_score(y_test, y_pred))\n",
    "print(\"mean_absolute_error: \", mean_absolute_error(y_test, y_pred))\n",
    "print(\"mean_squared_error: \", mean_squared_error(y_test, y_pred))\n",
    "print(\"root_mean_squared_error: \", np.sqrt(mean_squared_error(y_test, y_pred)))"
   ]
  },
  {
   "cell_type": "markdown",
   "metadata": {},
   "source": [
    "## LassoCV regression"
   ]
  },
  {
   "cell_type": "code",
   "execution_count": 16,
   "metadata": {},
   "outputs": [
    {
     "data": {
      "text/plain": [
       "0.0031143767125185254"
      ]
     },
     "execution_count": 16,
     "metadata": {},
     "output_type": "execute_result"
    }
   ],
   "source": [
    "lassoregcv = LassoCV(n_alphas=100, random_state=1)\n",
    "lassoregcv.fit(X_train, y_train)\n",
    "lassoregcv.alpha_"
   ]
  },
  {
   "cell_type": "code",
   "execution_count": 17,
   "metadata": {},
   "outputs": [
    {
     "name": "stdout",
     "output_type": "stream",
     "text": [
      "R-Square Value 0.7369913348397596\n",
      "mean_absolute_error:  0.10405255332180041\n",
      "mean_squared_error:  0.01828953420125774\n",
      "root_mean_squared_error:  0.13523880434719074\n"
     ]
    }
   ],
   "source": [
    "y_pred = lassoregcv.predict(X_test)\n",
    "\n",
    "# calculate R^2 value, MAE, MSE, RMSE\n",
    "print(\"R-Square Value\", r2_score(y_test, y_pred))\n",
    "print(\"mean_absolute_error: \", mean_absolute_error(y_test, y_pred))\n",
    "print(\"mean_squared_error: \", mean_squared_error(y_test, y_pred))\n",
    "print(\"root_mean_squared_error: \", np.sqrt(mean_squared_error(y_test, y_pred)))"
   ]
  }
 ],
 "metadata": {
  "kernelspec": {
   "display_name": "Python 3",
   "language": "python",
   "name": "python3"
  },
  "language_info": {
   "codemirror_mode": {
    "name": "ipython",
    "version": 3
   },
   "file_extension": ".py",
   "mimetype": "text/x-python",
   "name": "python",
   "nbconvert_exporter": "python",
   "pygments_lexer": "ipython3",
   "version": "3.8.5"
  }
 },
 "nbformat": 4,
 "nbformat_minor": 4
}
